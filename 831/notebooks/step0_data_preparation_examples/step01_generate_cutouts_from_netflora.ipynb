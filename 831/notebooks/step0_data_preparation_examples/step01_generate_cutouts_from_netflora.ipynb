{
 "cells": [
  {
   "cell_type": "markdown",
   "metadata": {},
   "source": [
    "# Generate cutouts from Netflora results"
   ]
  },
  {
   "cell_type": "markdown",
   "metadata": {},
   "source": [
    "Predictions from the Netflora model are provided as a list of bounding boxes in txt files. \n",
    "Netflora cut the images into tiles.\n",
    "\n",
    "Per tile, the model provides the bounding boxes of the detected flowers. The bounding boxes are provided in the format of proportion coordinates in that tile.\n",
    "\n",
    "In this notebook, we will generate the cutouts of the detected bounding boxes of several classes. The cutouts will be saved in per class folders."
   ]
  },
  {
   "cell_type": "code",
   "execution_count": 1,
   "metadata": {},
   "outputs": [],
   "source": [
    "from pathlib import Path\n",
    "import pandas as pd \n",
    "from PIL import Image \n",
    "import numpy as np # Open the image file img = Image.open('example.jpg')\n",
    "from matplotlib import pyplot as plt"
   ]
  },
  {
   "cell_type": "code",
   "execution_count": 2,
   "metadata": {},
   "outputs": [
    {
     "data": {
      "text/plain": [
       "False"
      ]
     },
     "execution_count": 2,
     "metadata": {},
     "output_type": "execute_result"
    }
   ],
   "source": [
    "dir_labels = Path('../../../Netflora_workflow/runs/detect/exp/labels/')\n",
    "dir_tiles = Path('../../../Netflora_workflow/processing/output_tiles/')\n",
    "dir_tiles.exists()"
   ]
  },
  {
   "cell_type": "code",
   "execution_count": null,
   "metadata": {},
   "outputs": [],
   "source": [
    "# def crop_image(img, right, lower, wp, hp):\n",
    "def crop_image(img, x, y, w, h):\n",
    "    \"\"\"crop image using Netflora prediction coordinates\n",
    "       (0,0) is the top left corner of the image\n",
    "\n",
    "    Parameters\n",
    "    ----------\n",
    "    img : PIL.Image\n",
    "        imput image tile\n",
    "    x : horizontal coordinares, center of the prediction box proportion 0-1\n",
    "    y : vertical coordinares, center of the prediction box proportion 0-1\n",
    "    w : decimal width proportion 0-1\n",
    "    h : decimal height proportion 0-1\n",
    "    \"\"\"\n",
    "\n",
    "    width, height = img.size\n",
    "    left = x - w / 2\n",
    "    upper = y - h / 2\n",
    "    right = x + w / 2\n",
    "    lower = y + h / 2\n",
    "    img = img.crop((left * width, upper * height, right * width, lower * height))\n",
    "    return img"
   ]
  },
  {
   "cell_type": "code",
   "execution_count": null,
   "metadata": {},
   "outputs": [],
   "source": [
    "label_list = list(dir_labels.glob('*.txt'))\n",
    "label_list.sort()\n",
    "label_list"
   ]
  },
  {
   "cell_type": "code",
   "execution_count": null,
   "metadata": {},
   "outputs": [],
   "source": [
    "label_of_interest = 5\n",
    "thres_similarity = 0.08\n",
    "img_cutouts = []\n",
    "for f_labels in label_list:\n",
    "    # print(f_labels)\n",
    "    # Read a label file\n",
    "    df_labels = pd.read_csv(f_labels, sep=' ', header=None, index_col=False, names=['class', 'x', 'y', 'w', 'h', 'score'])\n",
    "    df_labels_interest = df_labels[(df_labels['class'] == label_of_interest) & (df_labels['score'] > thres_similarity)]\n",
    "    if len(df_labels_interest) > 0:\n",
    "        f_tile = dir_tiles / f_labels.name.replace('txt', 'jpg')\n",
    "        # Read the image as numpy array\n",
    "        img = Image.open(f_tile)\n",
    "        for i in range(len(df_labels_interest)):\n",
    "            img_cutouts.append(crop_image(img, *df_labels_interest.iloc[i][['x', 'y', 'w', 'h']]))"
   ]
  },
  {
   "cell_type": "code",
   "execution_count": null,
   "metadata": {},
   "outputs": [],
   "source": [
    "# visualize the cutouts\n",
    "fig, axes = plt.subplots(len(img_cutouts) // 5+1, 5, figsize=(10, 5*(len(img_cutouts) // 5+1)))\n",
    "for i, ax in enumerate(axes.flat):\n",
    "    if i >= len(img_cutouts):\n",
    "        break\n",
    "    ax.imshow(img_cutouts[i])\n",
    "    ax.title.set_text(f'{i}')\n",
    "    ax.axis('off')"
   ]
  },
  {
   "cell_type": "code",
   "execution_count": null,
   "metadata": {},
   "outputs": [],
   "source": [
    "# Mannual selection of the cutouts, (starting from 0)\n",
    "# index_exclude = [7,8] # label 0\n",
    "# index_exclude = [7,8,10] # label 1\n",
    "# index_exclude = [10,13,18,31,42,47,52,53,54,55,58,59,60,61] # label 2\n",
    "# index_exclude = [5,31,32] # label 6\n",
    "# index = [1,2,3,4,6,8,9,19,21,24] # label 5\n",
    "\n",
    "index = [7,8,13,14,21,24,26,27,34,35,36,37,39,46] # label 4\n",
    "\n",
    "# img_cutouts_selected = [img_cutouts[i] for i in range(len(img_cutouts)) if i not in index_exclude]\n",
    "img_cutouts_selected = [img_cutouts[i] for i in index]\n",
    "\n",
    "fig, axes = plt.subplots(len(img_cutouts_selected) // 3+1, 3, figsize=(20, 50))\n",
    "for i, ax in enumerate(axes.flat):\n",
    "    if i >= len(img_cutouts_selected):\n",
    "        break\n",
    "    ax.imshow(img_cutouts_selected[i])\n",
    "    ax.axis('off')"
   ]
  },
  {
   "cell_type": "code",
   "execution_count": null,
   "metadata": {},
   "outputs": [],
   "source": [
    "# Save the selected cutouts\n",
    "dir_output = Path(f'./output_cutouts/label_{label_of_interest}/')\n",
    "dir_output.mkdir(parents=True, exist_ok=True)\n",
    "for i, img in enumerate(img_cutouts_selected):\n",
    "    img.save(dir_output / f'cutout_{i}.jpg')"
   ]
  }
 ],
 "metadata": {
  "kernelspec": {
   "display_name": "xai4geo",
   "language": "python",
   "name": "python3"
  },
  "language_info": {
   "codemirror_mode": {
    "name": "ipython",
    "version": 3
   },
   "file_extension": ".py",
   "mimetype": "text/x-python",
   "name": "python",
   "nbconvert_exporter": "python",
   "pygments_lexer": "ipython3",
   "version": "3.10.12"
  }
 },
 "nbformat": 4,
 "nbformat_minor": 2
}
