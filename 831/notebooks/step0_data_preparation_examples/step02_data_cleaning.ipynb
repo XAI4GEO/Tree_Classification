{
 "cells": [
  {
   "cell_type": "code",
   "execution_count": 1,
   "metadata": {},
   "outputs": [],
   "source": [
    "import xarray as xr\n",
    "import numpy as np\n",
    "import rioxarray\n",
    "from pathlib import Path\n",
    "from matplotlib import pyplot as plt"
   ]
  },
  {
   "cell_type": "code",
   "execution_count": null,
   "metadata": {},
   "outputs": [],
   "source": [
    "# Set a mat for class code and name of the class\n",
    "description_labels = {0: 'netflora_murumuru_embrapa00',\n",
    "                      1: 'netflora_buriti_emprapa00', \n",
    "                      2: 'netflora_tucuma_emprapa00',\n",
    "                      3: 'reforestree_banana',\n",
    "                      4: 'reforestree_cacao',\n",
    "                      5: 'reforestree_fruit',}"
   ]
  },
  {
   "cell_type": "markdown",
   "metadata": {},
   "source": [
    "## Uniform the netflora cuout sizes"
   ]
  },
  {
   "cell_type": "code",
   "execution_count": null,
   "metadata": {},
   "outputs": [],
   "source": [
    "dir_netflora = Path('./output_cutouts')"
   ]
  },
  {
   "cell_type": "code",
   "execution_count": null,
   "metadata": {},
   "outputs": [],
   "source": [
    "def get_padsize(taget_size, img_size_x, img_size_y):\n",
    "    xleft = (taget_size - img_size_x)//2\n",
    "    xright = taget_size - xleft - img_size_x\n",
    "    ytop = (taget_size - img_size_y)//2\n",
    "    ybottom = taget_size - ytop - img_size_y\n",
    "\n",
    "    return xleft, xright, ytop, ybottom"
   ]
  },
  {
   "cell_type": "code",
   "execution_count": null,
   "metadata": {},
   "outputs": [],
   "source": [
    "# load the imgs as xarray, padding zeros to make them square, then save each class as a zarr file\n",
    "target_size = 128\n",
    "\n",
    "# for label_dir, label_idx in zip(['label_0', 'label_2', 'label_6'], range(3)):\n",
    "for label_dir, label_idx in zip(['label_0'], range(1)):\n",
    "    dir_class= dir_netflora / label_dir\n",
    "    list_imgs = list(dir_class.glob('*.jpg'))\n",
    "\n",
    "    # load the first image as a template\n",
    "    imgs = rioxarray.open_rasterio(list_imgs[0])\n",
    "\n",
    "    # pad the first image to make it square\n",
    "    xleft, xright, ytop, ybottom = get_padsize(target_size, imgs.sizes['x'], imgs.sizes['y'])\n",
    "    imgs = imgs.pad(pad_width={'x': (xleft,xright), 'y': (ytop,ybottom)}, mode='constant', constant_values=0)\n",
    "    imgs = imgs.expand_dims('sample', axis=0)\n",
    "    imgs.drop_indexes(['band', 'x', 'y'])\n",
    "\n",
    "    # loop and pad the rest of the images\n",
    "    for f_img in list_imgs[1:]:\n",
    "        img = rioxarray.open_rasterio(f_img)\n",
    "\n",
    "        # if the image is larger than target size, skip it\n",
    "        if img.sizes['x']>target_size or imgs.sizes['y']>target_size:\n",
    "            continue\n",
    "\n",
    "        xleft, xright, ytop, ybottom = get_padsize(target_size, img.sizes['x'], img.sizes['y'])\n",
    "        img_pad = img.pad(pad_width={'x': (xleft,xright), 'y': (ytop,ybottom)}, mode='constant', constant_values=0)\n",
    "        img_pad = img_pad.expand_dims('sample', axis=0)\n",
    "        img_pad = img_pad.drop_indexes(['band', 'x', 'y'])\n",
    "        imgs = xr.concat([imgs, img_pad], dim='sample')\n",
    "\n",
    "    # make a dataset with both images and labels\n",
    "    ds = xr.Dataset({'X': imgs, 'Y': xr.DataArray([label_idx]*len(list_imgs), dims='sample', name='label')})\n",
    "    ds = ds.drop_vars(['band', 'x', 'y', 'spatial_ref'])\n",
    "    ds = ds.transpose('sample', 'x', 'y', 'band')\n",
    "    ds = ds.rename({'band': 'channel'})\n",
    "    ds = ds.chunk('auto')\n",
    "\n",
    "    ds.to_zarr(f'./label{label_idx}_{description_labels[label_idx]}.zarr', mode='w')"
   ]
  },
  {
   "cell_type": "code",
   "execution_count": null,
   "metadata": {},
   "outputs": [],
   "source": [
    "ds_label1 = xr.open_zarr('./label0_murumuru_embrapa00.zarr')\n",
    "np.unique(ds_label1['Y']) # check the labels, should be 1"
   ]
  },
  {
   "cell_type": "markdown",
   "metadata": {},
   "source": [
    "## Down sampling reforesttree \n",
    "Down sampling reforesttree dataset from 1cm to 6cm "
   ]
  },
  {
   "cell_type": "code",
   "execution_count": null,
   "metadata": {},
   "outputs": [],
   "source": [
    "# Inspect the resolution of the reforestree data\n",
    "data = rioxarray.open_rasterio('/home/oku/Developments/XAI4GEO/data/reforestree/wwf_ecuador/RGB Orthomosaics/Carlos Vera Arteaga RGB.tif')\n",
    "data_subset = data.isel(x=range(8000, 9000), y=range(8000, 9000)) # Take a slice to reproject, since the reprojection is computationally expensive\n",
    "data_subset_meter = data_subset.rio.reproject('EPSG:32717') # Reproject to UTM Zone 17S\n",
    "data_subset_meter.rio.resolution() # This gives the resolution of ~ 1cm"
   ]
  },
  {
   "cell_type": "code",
   "execution_count": null,
   "metadata": {},
   "outputs": [],
   "source": [
    "# Inspect the resolution of the brazil data\n",
    "data = rioxarray.open_rasterio('/home/oku/Developments/XAI4GEO/data/brazil_data/original_data/PNM/PROCESSADOS/Map1_Orthomosaic_export_SatJun10172428194829.tif')\n",
    "data.rio.resolution() # This gives the resolution of ~ 6cm"
   ]
  },
  {
   "cell_type": "code",
   "execution_count": null,
   "metadata": {},
   "outputs": [],
   "source": [
    "# Load the reforestree data with larger than 200x200 pixels\n",
    "f_reforestree =  Path('/home/oku/Developments/XAI4GEO/data/reforestree/processed/foresttree_largerthan_200.zarr')"
   ]
  },
  {
   "cell_type": "code",
   "execution_count": null,
   "metadata": {},
   "outputs": [],
   "source": [
    "data_reforestree = xr.open_zarr(f_reforestree)\n",
    "data_reforestree"
   ]
  },
  {
   "cell_type": "code",
   "execution_count": null,
   "metadata": {},
   "outputs": [],
   "source": [
    "# Down sample the reforestree data by a (6, 6) window\n",
    "data_reforestree_downsampled = data_reforestree.coarsen(x=6, y=6, boundary='trim').mean()\n",
    "data_reforestree_downsampled"
   ]
  },
  {
   "cell_type": "markdown",
   "metadata": {},
   "source": [
    "## Resizing the image"
   ]
  },
  {
   "cell_type": "code",
   "execution_count": null,
   "metadata": {},
   "outputs": [],
   "source": [
    "pad_size = (target_size - data_reforestree_downsampled.sizes['x'])//2\n",
    "pad_size"
   ]
  },
  {
   "cell_type": "code",
   "execution_count": null,
   "metadata": {},
   "outputs": [],
   "source": [
    "pad_size = (target_size - data_reforestree_downsampled.sizes['x'])//2\n",
    "data_reforestree_downsampled_padded = data_reforestree_downsampled.pad(mode='constant', pad_width={'x': (pad_size,pad_size), 'y': (pad_size,pad_size)}, constant_values=0)\n",
    "data_reforestree_downsampled_padded"
   ]
  },
  {
   "cell_type": "code",
   "execution_count": null,
   "metadata": {},
   "outputs": [],
   "source": [
    "# Save the downsampled data to separated zarr files per class\n",
    "labels = data_reforestree_downsampled_padded[\"Y\"].compute()\n",
    "for original_label, label_idx in zip([1,2,4],range(3, 6)):\n",
    "    ds = data_reforestree_downsampled_padded.where(labels==original_label,drop=True)\n",
    "    ds['Y'] = label_idx\n",
    "    ds = ds.chunk('auto')\n",
    "    ds.to_zarr(f'./label{label_idx}_{description_labels[label_idx]}.zarr', mode='w')"
   ]
  },
  {
   "cell_type": "code",
   "execution_count": null,
   "metadata": {},
   "outputs": [],
   "source": [
    "# Plot some random samples per class\n",
    "n_samples_plot = 4\n",
    "classes = [1, 2, 4]\n",
    "rng = np.random.default_rng()\n",
    "fig, axs = plt.subplots(len(classes), n_samples_plot, figsize=(15, 15))\n",
    "ax_row=0\n",
    "labels = data_reforestree_downsampled_padded[\"Y\"].compute()\n",
    "for exmaple_class in classes: # Loop through classes\n",
    "    nsamples = np.sum((labels == exmaple_class).values)\n",
    "    idx = rng.integers(0, nsamples, size=n_samples_plot)\n",
    "    images = (\n",
    "        data_reforestree_downsampled_padded[\"X\"]\n",
    "        .where(labels == exmaple_class, drop=True)\n",
    "        .isel(sample=idx)\n",
    "        .dropna(dim=\"sample\")\n",
    "        .compute()\n",
    "    )\n",
    "    for example_i in range(n_samples_plot):\n",
    "        images.isel(sample=example_i).astype('int').plot.imshow(ax=axs[ax_row, example_i])\n",
    "    ax_row += 1"
   ]
  }
 ],
 "metadata": {
  "kernelspec": {
   "display_name": "xai4geo",
   "language": "python",
   "name": "python3"
  },
  "language_info": {
   "codemirror_mode": {
    "name": "ipython",
    "version": 3
   },
   "file_extension": ".py",
   "mimetype": "text/x-python",
   "name": "python",
   "nbconvert_exporter": "python",
   "pygments_lexer": "ipython3",
   "version": "3.10.12"
  }
 },
 "nbformat": 4,
 "nbformat_minor": 2
}
