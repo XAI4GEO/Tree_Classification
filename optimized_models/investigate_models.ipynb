{
 "cells": [
  {
   "cell_type": "code",
   "execution_count": 1,
   "metadata": {},
   "outputs": [
    {
     "name": "stderr",
     "output_type": "stream",
     "text": [
      "2024-03-04 18:33:07.631600: I tensorflow/core/util/port.cc:113] oneDNN custom operations are on. You may see slightly different numerical results due to floating-point round-off errors from different computation orders. To turn them off, set the environment variable `TF_ENABLE_ONEDNN_OPTS=0`.\n",
      "2024-03-04 18:33:07.725516: I tensorflow/core/platform/cpu_feature_guard.cc:182] This TensorFlow binary is optimized to use available CPU instructions in performance-critical operations.\n",
      "To enable the following instructions: SSE4.1 SSE4.2 AVX AVX2 AVX_VNNI FMA, in other operations, rebuild TensorFlow with the appropriate compiler flags.\n"
     ]
    }
   ],
   "source": [
    "import keras\n",
    "from keras import backend\n",
    "from keras.models import load_model"
   ]
  },
  {
   "cell_type": "markdown",
   "metadata": {},
   "source": [
    "## Example of taking feature extractor from siamese network"
   ]
  },
  {
   "cell_type": "code",
   "execution_count": 2,
   "metadata": {},
   "outputs": [],
   "source": [
    "# Model creation\n",
    "def _create_model(nneurons, nfilters, ndropout, npool):\n",
    "    # 4 layers\n",
    "    inputs = keras.Input((400, 400, 3))\n",
    "    \n",
    "    x = keras.layers.Conv2D(nneurons[0], (nfilters[0], nfilters[0]), padding=\"same\", activation=\"relu\")(inputs)\n",
    "    x = keras.layers.BatchNormalization()(x)\n",
    "    x = keras.layers.MaxPooling2D(pool_size=(npool[0], npool[0]), data_format='channels_last')(x)\n",
    "\n",
    "    x = keras.layers.Conv2D(nneurons[1], (nfilters[1], nfilters[1]), padding=\"same\", activation=\"relu\")(x)\n",
    "    x = keras.layers.BatchNormalization()(x)\n",
    "    x = keras.layers.MaxPooling2D(pool_size=(npool[1], npool[1]), data_format='channels_last')(x)\n",
    "\n",
    "    x = keras.layers.Conv2D(nneurons[2], (nfilters[2], nfilters[2]), padding=\"same\", activation=\"relu\")(x)\n",
    "    x = keras.layers.BatchNormalization()(x)\n",
    "    x = keras.layers.MaxPooling2D(pool_size=(npool[2], npool[2]), data_format='channels_last')(x)\n",
    "\n",
    "    x = keras.layers.Conv2D(nneurons[3], (nfilters[3], nfilters[3]), padding=\"same\", activation=\"relu\")(x)\n",
    "    x = keras.layers.BatchNormalization()(x)\n",
    "    x = keras.layers.MaxPooling2D(pool_size=(npool[3], npool[3]), data_format='channels_last')(x)\n",
    "    x = keras.layers.Dropout(ndropout[0])(x)\n",
    "\n",
    "    pooledOutput = keras.layers.GlobalAveragePooling2D()(x)\n",
    "    pooledOutput = keras.layers.Dense(nneurons[4])(pooledOutput)\n",
    "    outputs = keras.layers.Dense(nneurons[5])(pooledOutput)\n",
    "\n",
    "    model = keras.Model(inputs, outputs)\n",
    "    return model\n",
    "\n",
    "def _euclidean_distance(vectors):\n",
    "    (featA, featB) = vectors\n",
    "    squared = backend.square(featA-featB)\n",
    "    return squared\n",
    "\n",
    "def siamese_model(nneurons, nfilters, ndropout, npool):\n",
    "    feature_extractor_model = _create_model(nneurons, nfilters, ndropout, npool)\n",
    "    imgA = keras.Input(shape=(400, 400, 3))\n",
    "    imgB = keras.Input(shape=(400, 400, 3))\n",
    "    featA = feature_extractor_model(imgA)\n",
    "    featB = feature_extractor_model(imgB)\n",
    "    distance = keras.layers.Lambda(_euclidean_distance)([featA, featB])\n",
    "    outputs = keras.layers.Dense(1, activation=\"sigmoid\")(distance)\n",
    "    model = keras.Model(inputs=[imgA, imgB], outputs=outputs)\n",
    "    return model"
   ]
  },
  {
   "cell_type": "code",
   "execution_count": 3,
   "metadata": {},
   "outputs": [],
   "source": [
    "# Create siamese model\n",
    "nneurons = [32, 64, 64, 128, 256, 128]\n",
    "nfilters = [3, 3, 5, 5]\n",
    "ndropout = [0.4]\n",
    "npool = [4, 4, 4, 4]\n",
    "siamesemodel = siamese_model(nneurons, nfilters, ndropout, npool)"
   ]
  },
  {
   "cell_type": "code",
   "execution_count": 4,
   "metadata": {},
   "outputs": [],
   "source": [
    "# load weights - note that this includes 2 additional weights for the output layer \n",
    "siamesemodel.load_weights('./optimized_weights.h5')"
   ]
  },
  {
   "cell_type": "code",
   "execution_count": 5,
   "metadata": {},
   "outputs": [
    {
     "name": "stdout",
     "output_type": "stream",
     "text": [
      "WARNING:tensorflow:Compiled the loaded model, but the compiled metrics have yet to be built. `model.compile_metrics` will be empty until you train or evaluate the model.\n"
     ]
    },
    {
     "name": "stderr",
     "output_type": "stream",
     "text": [
      "/home/oku/miniforge3/envs/xai4geo/lib/python3.11/site-packages/keras/src/engine/training.py:3103: UserWarning: You are saving your model as an HDF5 file via `model.save()`. This file format is considered legacy. We recommend using instead the native Keras format, e.g. `model.save('my_model.keras')`.\n",
      "  saving_api.save_model(\n"
     ]
    }
   ],
   "source": [
    "# Save siamese model\n",
    "# siamesemodel.save('siamese_model.h5')"
   ]
  },
  {
   "cell_type": "code",
   "execution_count": null,
   "metadata": {},
   "outputs": [],
   "source": [
    "# Create a model to extract feature vectors from weights of the trained model\n",
    "feature_extractor_model = _create_model(nneurons, nfilters, ndropout, npool)"
   ]
  },
  {
   "cell_type": "code",
   "execution_count": null,
   "metadata": {},
   "outputs": [],
   "source": [
    "# Set the weights of the extractor model to the weights trained in the siamese model.  \n",
    "feature_extractor_model.set_weights(siamesemodel.weights[:28])"
   ]
  },
  {
   "cell_type": "markdown",
   "metadata": {},
   "source": [
    "## Compare the extracted model and the loaded model"
   ]
  },
  {
   "cell_type": "code",
   "execution_count": null,
   "metadata": {},
   "outputs": [],
   "source": [
    "load_model('./siamese_model.h5')"
   ]
  },
  {
   "cell_type": "code",
   "execution_count": null,
   "metadata": {},
   "outputs": [],
   "source": [
    "# Load the saved model with the weights\n",
    "feature_extractor_model_saved = load_model('./feature_extractor_model.h5')"
   ]
  },
  {
   "cell_type": "code",
   "execution_count": null,
   "metadata": {},
   "outputs": [],
   "source": [
    "# Verify that the weights are the same by comparing the sum of the differences\n",
    "# All differences should be 0\n",
    "sum_of_diffs = []\n",
    "for i in range(len(feature_extractor_model_saved.layers)):\n",
    "    sum_of_diffs.append((feature_extractor_model_saved.weights[i].numpy() - feature_extractor_model.weights[i].numpy()).sum())\n",
    "sum_of_diffs"
   ]
  }
 ],
 "metadata": {
  "kernelspec": {
   "display_name": "xai4geo",
   "language": "python",
   "name": "python3"
  },
  "language_info": {
   "codemirror_mode": {
    "name": "ipython",
    "version": 3
   },
   "file_extension": ".py",
   "mimetype": "text/x-python",
   "name": "python",
   "nbconvert_exporter": "python",
   "pygments_lexer": "ipython3",
   "version": "3.11.7"
  }
 },
 "nbformat": 4,
 "nbformat_minor": 2
}
