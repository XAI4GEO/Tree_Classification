{
 "cells": [
  {
   "cell_type": "code",
   "execution_count": 19,
   "metadata": {},
   "outputs": [],
   "source": [
    "import keras\n",
    "from keras import backend as k\n",
    "from keras.models import load_model"
   ]
  },
  {
   "cell_type": "markdown",
   "metadata": {},
   "source": [
    "## Example of taking feature extractor from siamese network"
   ]
  },
  {
   "cell_type": "code",
   "execution_count": 20,
   "metadata": {},
   "outputs": [],
   "source": [
    "# Model creation\n",
    "def _create_model(nneurons, nfilters, ndropout, npool):\n",
    "    # 4 layers\n",
    "    inputs = keras.Input((400, 400, 3))\n",
    "    \n",
    "    x = keras.layers.Conv2D(nneurons[0], (nfilters[0], nfilters[0]), padding=\"same\", activation=\"relu\")(inputs)\n",
    "    x = keras.layers.BatchNormalization()(x)\n",
    "    x = keras.layers.MaxPooling2D(pool_size=(npool[0], npool[0]), data_format='channels_last')(x)\n",
    "\n",
    "    x = keras.layers.Conv2D(nneurons[1], (nfilters[1], nfilters[1]), padding=\"same\", activation=\"relu\")(x)\n",
    "    x = keras.layers.BatchNormalization()(x)\n",
    "    x = keras.layers.MaxPooling2D(pool_size=(npool[1], npool[1]), data_format='channels_last')(x)\n",
    "\n",
    "    x = keras.layers.Conv2D(nneurons[2], (nfilters[2], nfilters[2]), padding=\"same\", activation=\"relu\")(x)\n",
    "    x = keras.layers.BatchNormalization()(x)\n",
    "    x = keras.layers.MaxPooling2D(pool_size=(npool[2], npool[2]), data_format='channels_last')(x)\n",
    "\n",
    "    x = keras.layers.Conv2D(nneurons[3], (nfilters[3], nfilters[3]), padding=\"same\", activation=\"relu\")(x)\n",
    "    x = keras.layers.BatchNormalization()(x)\n",
    "    x = keras.layers.MaxPooling2D(pool_size=(npool[3], npool[3]), data_format='channels_last')(x)\n",
    "    x = keras.layers.Dropout(ndropout[0])(x)\n",
    "\n",
    "    pooledOutput = keras.layers.GlobalAveragePooling2D()(x)\n",
    "    pooledOutput = keras.layers.Dense(nneurons[4])(pooledOutput)\n",
    "    outputs = keras.layers.Dense(nneurons[5])(pooledOutput)\n",
    "\n",
    "    model = keras.Model(inputs, outputs)\n",
    "    return model\n",
    "\n",
    "def _euclidean_distance(vectors):\n",
    "    (featA, featB) = vectors\n",
    "    squared = k.square(featA-featB)\n",
    "    return squared\n",
    "\n",
    "def siamese_model(nneurons, nfilters, ndropout, npool):\n",
    "    feature_extractor_model = _create_model(nneurons, nfilters, ndropout, npool)\n",
    "    imgA = keras.Input(shape=(400, 400, 3))\n",
    "    imgB = keras.Input(shape=(400, 400, 3))\n",
    "    featA = feature_extractor_model(imgA)\n",
    "    featB = feature_extractor_model(imgB)\n",
    "    distance = keras.layers.Lambda(_euclidean_distance)([featA, featB])\n",
    "    outputs = keras.layers.Dense(1, activation=\"sigmoid\")(distance)\n",
    "    model = keras.Model(inputs=[imgA, imgB], outputs=outputs)\n",
    "    return model"
   ]
  },
  {
   "cell_type": "code",
   "execution_count": 21,
   "metadata": {},
   "outputs": [],
   "source": [
    "# Create siamese model\n",
    "nneurons = [32, 64, 64, 128, 256, 128]\n",
    "nfilters = [3, 3, 5, 5]\n",
    "ndropout = [0.4]\n",
    "npool = [4, 4, 4, 4]\n",
    "siamesemodel = siamese_model(nneurons, nfilters, ndropout, npool)"
   ]
  },
  {
   "cell_type": "code",
   "execution_count": 22,
   "metadata": {},
   "outputs": [],
   "source": [
    "# load weights - note that this includes 2 additional weights for the output layer \n",
    "siamesemodel.load_weights('./optimized_weights.h5')"
   ]
  },
  {
   "cell_type": "code",
   "execution_count": 23,
   "metadata": {},
   "outputs": [],
   "source": [
    "# Create a model to extract feature vectors from weights of the trained model\n",
    "feature_extractor_model = _create_model(nneurons, nfilters, ndropout, npool)"
   ]
  },
  {
   "cell_type": "code",
   "execution_count": 24,
   "metadata": {},
   "outputs": [],
   "source": [
    "# Set the weights of the extractor model to the weights trained in the siamese model.  \n",
    "feature_extractor_model.set_weights(siamesemodel.weights[:28])"
   ]
  },
  {
   "cell_type": "markdown",
   "metadata": {},
   "source": [
    "## Compare the extracted model and the loaded model"
   ]
  },
  {
   "cell_type": "code",
   "execution_count": 25,
   "metadata": {},
   "outputs": [
    {
     "name": "stdout",
     "output_type": "stream",
     "text": [
      "WARNING:tensorflow:No training configuration found in the save file, so the model was *not* compiled. Compile it manually.\n"
     ]
    }
   ],
   "source": [
    "# Load the saved model with the weights\n",
    "feature_extractor_model_saved = load_model('./feature_extractor_model.h5')"
   ]
  },
  {
   "cell_type": "code",
   "execution_count": 26,
   "metadata": {},
   "outputs": [
    {
     "data": {
      "text/plain": [
       "[0.0,\n",
       " 0.0,\n",
       " 0.0,\n",
       " 0.0,\n",
       " 0.0,\n",
       " 0.0,\n",
       " 0.0,\n",
       " 0.0,\n",
       " 0.0,\n",
       " 0.0,\n",
       " 0.0,\n",
       " 0.0,\n",
       " 0.0,\n",
       " 0.0,\n",
       " 0.0,\n",
       " 0.0,\n",
       " 0.0]"
      ]
     },
     "execution_count": 26,
     "metadata": {},
     "output_type": "execute_result"
    }
   ],
   "source": [
    "# Verify that the weights are the same by comparing the sum of the differences\n",
    "# All differences should be 0\n",
    "sum_of_diffs = []\n",
    "for i in range(len(feature_extractor_model_saved.layers)):\n",
    "    sum_of_diffs.append((feature_extractor_model_saved.weights[i].numpy() - feature_extractor_model.weights[i].numpy()).sum())\n",
    "sum_of_diffs"
   ]
  }
 ],
 "metadata": {
  "kernelspec": {
   "display_name": "xai4geo",
   "language": "python",
   "name": "python3"
  },
  "language_info": {
   "codemirror_mode": {
    "name": "ipython",
    "version": 3
   },
   "file_extension": ".py",
   "mimetype": "text/x-python",
   "name": "python",
   "nbconvert_exporter": "python",
   "pygments_lexer": "ipython3",
   "version": "3.11.7"
  }
 },
 "nbformat": 4,
 "nbformat_minor": 2
}
