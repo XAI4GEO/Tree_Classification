{
 "cells": [
  {
   "cell_type": "markdown",
   "metadata": {},
   "source": [
    "# Make cutout from UAV image\n",
    "\n",
    "Data sources:\n",
    "\n",
    "- tree_labels_merged.gpkg: [link](https://zenodo.org/records/13828591/files/tree_labels.zip?download=1)\n",
    "- Map1_Orthomosaic_export_SatJun10172428194829.tif: [link](https://zenodo.org/records/13828591/files/uav_img.zip?download=1)"
   ]
  },
  {
   "cell_type": "code",
   "execution_count": 1,
   "metadata": {},
   "outputs": [],
   "source": [
    "import xarray as xr\n",
    "import math\n",
    "from pathlib import Path\n",
    "import geopandas as gpd\n",
    "from matplotlib import pyplot as plt\n",
    "from shapely.geometry import box\n",
    "import pandas as pd\n",
    "import numpy as np\n",
    "\n",
    "from geocoded_object_extractor import ObjectExtractor\n",
    "from geocoded_object_extractor.utils import write_cutouts"
   ]
  },
  {
   "cell_type": "code",
   "execution_count": 2,
   "metadata": {},
   "outputs": [],
   "source": [
    "tree_labels_path = Path('../data/tree_labels/tree_labels_merged.gpkg')\n",
    "image_path = Path('../data/uav_img/Map1_Orthomosaic_export_SatJun10172428194829.tif')"
   ]
  },
  {
   "cell_type": "code",
   "execution_count": null,
   "metadata": {},
   "outputs": [],
   "source": [
    "tree_labels = gpd.read_file(tree_labels_path)\n",
    "tree_labels"
   ]
  },
  {
   "cell_type": "code",
   "execution_count": null,
   "metadata": {},
   "outputs": [],
   "source": [
    "# Build a dictionary which maps ID to [ESPECIE, TIPO]\n",
    "id_species_mapping = tree_labels[['ID', 'ESPECIE', 'TIPO']].drop_duplicates().set_index('ID')\n",
    "\n",
    "id_species_mapping = id_species_mapping.to_dict(orient='index')\n",
    "id_species_mapping\n"
   ]
  },
  {
   "cell_type": "code",
   "execution_count": null,
   "metadata": {},
   "outputs": [],
   "source": [
    "geoms = tree_labels.geometry\n",
    "labels = tree_labels['ID']\n",
    "\n",
    "obj_extr = ObjectExtractor(\n",
    "    images=[image_path],\n",
    "    geoms=geoms,\n",
    "    labels=labels,\n",
    "    pixel_size=256,\n",
    "    max_pixel_size=256,\n",
    "    encode_labels=False\n",
    ")\n",
    "\n",
    "labels, transform_params, crs, cutouts = obj_extr.get_cutouts()"
   ]
  },
  {
   "cell_type": "code",
   "execution_count": 8,
   "metadata": {},
   "outputs": [],
   "source": [
    "unique_labels = labels.unique()"
   ]
  },
  {
   "cell_type": "code",
   "execution_count": null,
   "metadata": {},
   "outputs": [],
   "source": [
    "# Visualize one samples per unique label from cutouts\n",
    "# five samples per row\n",
    "num_unique_labels = len(unique_labels)\n",
    "num_samples_per_row = 5\n",
    "num_samples_per_col = math.ceil(num_unique_labels / num_samples_per_row)\n",
    "fig, axs = plt.subplots(num_samples_per_col, num_samples_per_row, figsize=(20, 20))\n",
    "for i, label in enumerate(unique_labels):\n",
    "    row = i // num_samples_per_row\n",
    "    col = i % num_samples_per_row\n",
    "    sample = cutouts[labels == label][0]\n",
    "    axs[row, col].imshow(sample)\n",
    "    axs[row, col].set_title(f'{id_species_mapping[label][\"ESPECIE\"]}')\n",
    "    axs[row, col].axis('off')"
   ]
  },
  {
   "cell_type": "code",
   "execution_count": null,
   "metadata": {},
   "outputs": [],
   "source": [
    "# create a Dataset and add cutouts and labels to it\n",
    "ds = xr.Dataset(\n",
    "    data_vars={\n",
    "        'X': (['sample', 'x', 'y', 'channel'], cutouts),\n",
    "        'Y': (['sample'], labels),\n",
    "    },\n",
    "    attrs=id_species_mapping\n",
    ")\n",
    "ds = ds.isel(channel=range(3))\n",
    "ds"
   ]
  },
  {
   "cell_type": "code",
   "execution_count": null,
   "metadata": {},
   "outputs": [],
   "source": [
    "# save the Dataset in Zarr format\n",
    "ds_path = Path('.') / 'Tree_labels_merged' / 'tree_labels_merged.zarr'\n",
    "ds.to_zarr(ds_path, mode='w')"
   ]
  },
  {
   "cell_type": "markdown",
   "metadata": {},
   "source": [
    "## Statistics of the selected cutouts"
   ]
  },
  {
   "cell_type": "code",
   "execution_count": null,
   "metadata": {},
   "outputs": [],
   "source": [
    "ds = xr.open_zarr(ds_path)\n",
    "ds"
   ]
  },
  {
   "cell_type": "code",
   "execution_count": 13,
   "metadata": {},
   "outputs": [],
   "source": [
    "# Loop through the sample dimension and remove padded zeros\n",
    "imgs = []\n",
    "widths = []\n",
    "heights = []\n",
    "for i in range(ds['X'].sizes['sample']):\n",
    "    img = ds['X'].isel(sample=i).values\n",
    "    img = img[~(img == 0).all(axis=(0, 2))]\n",
    "    idx = np.nonzero(~((img == 0).all(axis=(0,2))))\n",
    "    img = img[:, idx[0], :]\n",
    "    imgs.append(img)\n",
    "    widths.append(img.shape[1])\n",
    "    heights.append(img.shape[0])"
   ]
  },
  {
   "cell_type": "code",
   "execution_count": null,
   "metadata": {},
   "outputs": [],
   "source": [
    "# width histogram, group by ds['Y']\n",
    "widths = np.array(widths)\n",
    "heights = np.array(heights)\n",
    "labels = ds['Y'].values\n",
    "unique_labels = np.unique(labels)\n",
    "num_unique_labels = len(unique_labels)\n",
    "fig, axs = plt.subplots(num_unique_labels, 2, figsize=(10, 40))\n",
    "for i, label in enumerate(unique_labels):\n",
    "    mask = labels == label\n",
    "    axs[i, 0].hist(widths[mask], bins=20)\n",
    "    axs[i, 0].set_title(f'{id_species_mapping[label][\"ESPECIE\"]}')\n",
    "    axs[i, 0].set_xlabel('width')\n",
    "    axs[i, 0].set_ylabel('count')\n",
    "    axs[i, 1].hist(heights[mask], bins=20)\n",
    "    axs[i, 1].set_title(f'{id_species_mapping[label][\"ESPECIE\"]}')\n",
    "    axs[i, 1].set_xlabel('height')\n",
    "    axs[i, 1].set_ylabel('count')\n",
    "# set x and y limits\n",
    "for ax in axs.flatten():\n",
    "    ax.set_xlim([0, 256])\n",
    "    ax.set_ylim([0, 5])\n",
    "\n"
   ]
  },
  {
   "cell_type": "code",
   "execution_count": null,
   "metadata": {},
   "outputs": [],
   "source": [
    "# Count the number of samples per species and plot the histogram\n",
    "species_counts = ds['Y'].to_pandas().value_counts()\n",
    "# update index with species names\n",
    "species_counts.index = species_counts.index.map(lambda x: id_species_mapping[x]['ESPECIE'])\n",
    "species_counts = species_counts.sort_values(ascending=False)\n",
    "species_counts.plot(kind='bar', figsize=(15, 10))\n",
    "# Add the count to the plot\n",
    "for i, count in enumerate(species_counts):\n",
    "    plt.text(i, count, count, ha='center', va='bottom')"
   ]
  },
  {
   "cell_type": "code",
   "execution_count": null,
   "metadata": {},
   "outputs": [],
   "source": [
    "# Make a histogram of species\n",
    "# replace the ID with the species name\n",
    "species = [id_species_mapping[s]['ESPECIE'] for s in ds['Y'].values]\n",
    "# species = np.array(species)\n",
    "plt.hist(species, bins=np.unique(species).shape[0])\n",
    "plt.xticks(rotation=90)\n",
    "# center the xticks\n",
    "plt.gca().set_xticks(np.arange(len(np.unique(species)))-0.5)"
   ]
  }
 ],
 "metadata": {
  "kernelspec": {
   "display_name": "xai4geo",
   "language": "python",
   "name": "python3"
  },
  "language_info": {
   "codemirror_mode": {
    "name": "ipython",
    "version": 3
   },
   "file_extension": ".py",
   "mimetype": "text/x-python",
   "name": "python",
   "nbconvert_exporter": "python",
   "pygments_lexer": "ipython3",
   "version": "3.11.7"
  }
 },
 "nbformat": 4,
 "nbformat_minor": 2
}
