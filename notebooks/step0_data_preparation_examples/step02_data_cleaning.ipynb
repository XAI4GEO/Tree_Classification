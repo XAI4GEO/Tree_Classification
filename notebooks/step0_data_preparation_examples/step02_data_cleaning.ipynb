{
 "cells": [
  {
   "cell_type": "code",
   "execution_count": null,
   "metadata": {},
   "outputs": [],
   "source": [
    "import xarray as xr\n",
    "import numpy as np\n",
    "import rioxarray\n",
    "from pathlib import Path\n",
    "from matplotlib import pyplot as plt\n",
    "from geocoded_object_extractor.utils import hash_classname"
   ]
  },
  {
   "cell_type": "code",
   "execution_count": null,
   "metadata": {},
   "outputs": [],
   "source": [
    "# Set a mat for class code and name of the class\n",
    "description_labels = {0: 'netflora_murumuru_embrapa00',\n",
    "                      1: 'netflora_buriti_emprapa00', \n",
    "                      2: 'netflora_tucuma_emprapa00',\n",
    "                      3: 'reforestree_banana',\n",
    "                      4: 'reforestree_cacao',\n",
    "                      5: 'reforestree_fruit',}"
   ]
  },
  {
   "cell_type": "markdown",
   "metadata": {},
   "source": [
    "## Uniform the netflora cuout sizes"
   ]
  },
  {
   "cell_type": "code",
   "execution_count": null,
   "metadata": {},
   "outputs": [],
   "source": [
    "dir_netflora = Path('./output_cutouts')"
   ]
  },
  {
   "cell_type": "code",
   "execution_count": null,
   "metadata": {},
   "outputs": [],
   "source": [
    "def get_padsize(taget_size, img_size_x, img_size_y):\n",
    "    xleft = (taget_size - img_size_x)//2\n",
    "    xright = taget_size - xleft - img_size_x\n",
    "    ytop = (taget_size - img_size_y)//2\n",
    "    ybottom = taget_size - ytop - img_size_y\n",
    "\n",
    "    return xleft, xright, ytop, ybottom"
   ]
  },
  {
   "cell_type": "code",
   "execution_count": null,
   "metadata": {},
   "outputs": [],
   "source": [
    "# load the imgs as xarray, padding zeros to make them square, then save each class as a zarr file\n",
    "target_size = 128\n",
    "\n",
    "# for label_dir, label_idx in zip(['label_0', 'label_2', 'label_6'], range(3)):\n",
    "for label_dir, label_idx in zip(['label_0'], range(1)):\n",
    "    dir_class= dir_netflora / label_dir\n",
    "    list_imgs = list(dir_class.glob('*.jpg'))\n",
    "\n",
    "    # load the first image as a template\n",
    "    imgs = rioxarray.open_rasterio(list_imgs[0])\n",
    "\n",
    "    # pad the first image to make it square\n",
    "    xleft, xright, ytop, ybottom = get_padsize(target_size, imgs.sizes['x'], imgs.sizes['y'])\n",
    "    imgs = imgs.pad(pad_width={'x': (xleft,xright), 'y': (ytop,ybottom)}, mode='constant', constant_values=0)\n",
    "    imgs = imgs.expand_dims('sample', axis=0)\n",
    "    imgs.drop_indexes(['band', 'x', 'y'])\n",
    "\n",
    "    # loop and pad the rest of the images\n",
    "    for f_img in list_imgs[1:]:\n",
    "        img = rioxarray.open_rasterio(f_img)\n",
    "\n",
    "        # if the image is larger than target size, skip it\n",
    "        if img.sizes['x']>target_size or imgs.sizes['y']>target_size:\n",
    "            continue\n",
    "\n",
    "        xleft, xright, ytop, ybottom = get_padsize(target_size, img.sizes['x'], img.sizes['y'])\n",
    "        img_pad = img.pad(pad_width={'x': (xleft,xright), 'y': (ytop,ybottom)}, mode='constant', constant_values=0)\n",
    "        img_pad = img_pad.expand_dims('sample', axis=0)\n",
    "        img_pad = img_pad.drop_indexes(['band', 'x', 'y'])\n",
    "        imgs = xr.concat([imgs, img_pad], dim='sample')\n",
    "\n",
    "    # make a dataset with both images and labels\n",
    "    ds = xr.Dataset({'X': imgs, 'Y': xr.DataArray([label_idx]*len(list_imgs), dims='sample', name='label')})\n",
    "    ds = ds.drop_vars(['band', 'x', 'y', 'spatial_ref'])\n",
    "    ds = ds.transpose('sample', 'x', 'y', 'band')\n",
    "    ds = ds.rename({'band': 'channel'})\n",
    "    ds = ds.chunk('auto')\n",
    "\n",
    "    ds.to_zarr(f'./label{label_idx}_{description_labels[label_idx]}.zarr', mode='w')"
   ]
  },
  {
   "cell_type": "code",
   "execution_count": null,
   "metadata": {},
   "outputs": [],
   "source": [
    "ds_label1 = xr.open_zarr('./label0_murumuru_embrapa00.zarr')\n",
    "np.unique(ds_label1['Y']) # check the labels, should be 1"
   ]
  },
  {
   "cell_type": "markdown",
   "metadata": {},
   "source": [
    "## Down sampling reforesttree \n",
    "Down sampling reforesttree dataset from 1cm to 6cm "
   ]
  },
  {
   "cell_type": "code",
   "execution_count": null,
   "metadata": {},
   "outputs": [],
   "source": [
    "# Inspect the resolution of the reforestree data\n",
    "data = rioxarray.open_rasterio('/home/oku/Developments/XAI4GEO/data/reforestree/wwf_ecuador/RGB Orthomosaics/Carlos Vera Arteaga RGB.tif')\n",
    "data_subset = data.isel(x=range(8000, 9000), y=range(8000, 9000)) # Take a slice to reproject, since the reprojection is computationally expensive\n",
    "data_subset_meter = data_subset.rio.reproject('EPSG:32717') # Reproject to UTM Zone 17S\n",
    "data_subset_meter.rio.resolution() # This gives the resolution of ~ 1cm"
   ]
  },
  {
   "cell_type": "code",
   "execution_count": null,
   "metadata": {},
   "outputs": [],
   "source": [
    "# Inspect the resolution of the brazil data\n",
    "data = rioxarray.open_rasterio('/home/oku/Developments/XAI4GEO/data/brazil_data/original_data/PNM/PROCESSADOS/Map1_Orthomosaic_export_SatJun10172428194829.tif')\n",
    "data.rio.resolution() # This gives the resolution of ~ 6cm"
   ]
  },
  {
   "cell_type": "code",
   "execution_count": null,
   "metadata": {},
   "outputs": [],
   "source": [
    "# Load the reforestree data with larger than 384x384 pixels\n",
    "f_reforestree =  Path('/home/oku/Developments/XAI4GEO/data/reforestree/processed/larger_than_384/foresttree_largerthan_384.zarr')\n",
    "# f_reforestree =  Path('/home/oku/Developments/XAI4GEO/data/reforestree/processed/larger_than_200/foresttree_largerthan_200.zarr')"
   ]
  },
  {
   "cell_type": "code",
   "execution_count": null,
   "metadata": {},
   "outputs": [],
   "source": [
    "data_reforestree = xr.open_zarr(f_reforestree)\n",
    "data_reforestree"
   ]
  },
  {
   "cell_type": "code",
   "execution_count": null,
   "metadata": {},
   "outputs": [],
   "source": [
    "# Down sample the reforestree data by a (6, 6) window\n",
    "data_reforestree_downsampled = data_reforestree.coarsen(x=6, y=6, boundary='trim').mean()\n",
    "data_reforestree_downsampled"
   ]
  },
  {
   "cell_type": "markdown",
   "metadata": {},
   "source": [
    "## Resizing the image"
   ]
  },
  {
   "cell_type": "code",
   "execution_count": null,
   "metadata": {},
   "outputs": [],
   "source": [
    "target_size = 128\n",
    "pad_size = (target_size - data_reforestree_downsampled.sizes['x'])//2\n",
    "data_reforestree_downsampled_padded = data_reforestree_downsampled.pad(mode='constant', pad_width={'x': (pad_size,pad_size), 'y': (pad_size,pad_size)}, constant_values=0)\n",
    "data_reforestree_downsampled_padded"
   ]
  },
  {
   "cell_type": "code",
   "execution_count": null,
   "metadata": {},
   "outputs": [],
   "source": [
    "labels = data_reforestree_downsampled[\"Y\"].values"
   ]
  },
  {
   "cell_type": "code",
   "execution_count": null,
   "metadata": {},
   "outputs": [],
   "source": [
    "np.unique(labels)"
   ]
  },
  {
   "cell_type": "code",
   "execution_count": null,
   "metadata": {},
   "outputs": [],
   "source": [
    "# Bananas\n",
    "ds_lebel1 = data_reforestree_downsampled_padded.where(data_reforestree_downsampled_padded[\"Y\"].compute()==1, drop=True)\n",
    "ds_lebel1"
   ]
  },
  {
   "cell_type": "code",
   "execution_count": null,
   "metadata": {},
   "outputs": [],
   "source": [
    "# Cacao\n",
    "ds_lebel2 = data_reforestree_downsampled_padded.where(data_reforestree_downsampled_padded[\"Y\"].compute()==2, drop=True)\n",
    "ds_lebel2"
   ]
  },
  {
   "cell_type": "code",
   "execution_count": null,
   "metadata": {},
   "outputs": [],
   "source": [
    "# radomly select 104 samples\n",
    "np.random.seed(0)\n",
    "rng = np.random.default_rng()\n",
    "idx = rng.choice(range(len(ds_lebel1['sample'])), 104, replace=False)\n",
    "ds_label2_sel = ds_lebel1.isel(sample=idx)\n",
    "ds_label2_end = xr.open_zarr('/home/oku/Developments/XAI4GEO/data/cleaned_data/selected_cutouts/label274675723264_banana.zarr')\n",
    "idx_insert = rng.choice(range(len(ds_label2_sel['sample'])), ds_label2_end.sizes['sample'], replace=False)\n",
    "idx_insert = np.sort(idx_insert)\n",
    "print(idx_insert)\n",
    "# Update ds_label2_sel at locations idx_insert\n",
    "ds_label2_sel_update = ds_label2_sel.copy()\n",
    "ds_label2_sel_update['X'][idx_insert, :, :, :] = xr.DataArray(ds_label2_end['X'].values, dims=['sample', 'x', 'y', 'channel'])\n",
    "ds_label2_sel_update = ds_label2_sel_update.chunk({\"sample\": 10, \"y\": -1, \"x\": -1, \"channel\": -1})\n",
    "ds_label2_sel_update.to_zarr('./label274675723264_banana.zarr', mode='w')"
   ]
  },
  {
   "cell_type": "code",
   "execution_count": null,
   "metadata": {},
   "outputs": [],
   "source": [
    "# Fruit\n",
    "ds_lebel4 = data_reforestree_downsampled_padded.where(data_reforestree_downsampled_padded[\"Y\"].compute()==4, drop=True)\n",
    "ds_lebel4"
   ]
  },
  {
   "cell_type": "code",
   "execution_count": null,
   "metadata": {},
   "outputs": [],
   "source": [
    "for ds, name in zip([ds_lebel1, ds_lebel2, ds_lebel4], ['banana', 'cacao', 'fruit']):\n",
    "    ds['Y'] = xr.DataArray(np.array([hash_classname(f'{name}')]*ds.sizes[\"sample\"]), dims='sample')\n",
    "    ds = ds.chunk({'sample': 50, 'x': 128, 'y': 128, 'channel': 3})\n",
    "    ds.to_zarr(f'./label{ds[\"Y\"].values[0]}_{name}.zarr', mode='w')"
   ]
  },
  {
   "cell_type": "code",
   "execution_count": null,
   "metadata": {},
   "outputs": [],
   "source": [
    "# Randomly select 50 samples and plot\n",
    "rng = np.random.default_rng()\n",
    "ds_plot = ds_lebel1.isel(sample=rng.choice(ds_lebel1.sizes['sample'], 50, replace=False))\n",
    "ds_plot['X'].plot.imshow(col='sample', col_wrap=5)"
   ]
  },
  {
   "cell_type": "code",
   "execution_count": null,
   "metadata": {},
   "outputs": [],
   "source": [
    "# Randomly select 50 samples and plot\n",
    "rng = np.random.default_rng()\n",
    "ds_plot = ds_lebel2.isel(sample=rng.choice(ds_lebel2.sizes['sample'], 50, replace=False))\n",
    "ds_plot['X'].plot.imshow(col='sample', col_wrap=5)"
   ]
  },
  {
   "cell_type": "code",
   "execution_count": null,
   "metadata": {},
   "outputs": [],
   "source": [
    "# Randomly select 50 samples and plot\n",
    "rng = np.random.default_rng()\n",
    "ds_plot = ds_lebel4.isel(sample=rng.choice(ds_lebel4.sizes['sample'], 50, replace=False))\n",
    "ds_plot['X'].plot.imshow(col='sample', col_wrap=5)"
   ]
  },
  {
   "cell_type": "code",
   "execution_count": null,
   "metadata": {},
   "outputs": [],
   "source": [
    "# # Save the downsampled data to separated zarr files per class\n",
    "# labels = data_reforestree_downsampled[\"Y\"].compute()\n",
    "# for label in np.unique(labels.values):\n",
    "#     species_name = data_reforestree_downsampled.attrs[label.astype(str)]['ESPECIE']\n",
    "#     ds = data_reforestree_downsampled.where(labels==label,drop=True)\n",
    "#     ds = ds.chunk('auto')\n",
    "#     print(f'{species_name}: {ds.sizes[\"sample\"]}')\n",
    "#     ds.to_zarr(f'./label{label}_{species_name}.zarr', mode='w')"
   ]
  },
  {
   "cell_type": "code",
   "execution_count": null,
   "metadata": {},
   "outputs": [],
   "source": [
    "# np.unique(labels.values)"
   ]
  },
  {
   "cell_type": "code",
   "execution_count": null,
   "metadata": {},
   "outputs": [],
   "source": [
    "# # Plot some random samples per class\n",
    "# n_samples_plot = 5\n",
    "# rng = np.random.default_rng()\n",
    "# fig, axs = plt.subplots(len(np.unique(labels.values)), n_samples_plot, figsize=(15, 15))\n",
    "# ax_row=0\n",
    "# labels = data_reforestree_downsampled[\"Y\"].compute()\n",
    "# for label in np.unique(labels.values): # Loop through classes\n",
    "#     ds = xr.open_zarr(f'./label{label}_{data_reforestree_downsampled.attrs[label.astype(str)][\"ESPECIE\"]}.zarr')\n",
    "#     idx = rng.integers(0, ds.sizes[\"sample\"] , size=n_samples_plot)\n",
    "#     for i, ax in enumerate(axs[ax_row]):\n",
    "#         ax.imshow(ds['X'][idx[i]].values/255.)\n",
    "#         ax.axis('off')\n",
    "#         ax.set_title(f'{data_reforestree_downsampled.attrs[label.astype(str)][\"ESPECIE\"]}')\n",
    "#     ax_row+=1"
   ]
  },
  {
   "cell_type": "markdown",
   "metadata": {},
   "source": [
    "## Change the label value of the old data (only performed once for the old data)"
   ]
  },
  {
   "cell_type": "code",
   "execution_count": null,
   "metadata": {},
   "outputs": [],
   "source": [
    "# dir_cutouts = Path('/home/oku/Developments/XAI4GEO/data/cleaned_data/all_cutouts')\n",
    "\n",
    "# list_zarr = ['label142377591163_murumuru.zarr/', 'label244751236943_tucuma.zarr/', ]\n",
    "# for file in list_zarr:\n",
    "#     data = xr.open_zarr(dir_cutouts/file)\n",
    "#     print(file)\n",
    "#     print(f\"shape:{data['X'].sizes}\")\n",
    "#     print(f\"label:{np.unique(data['Y'].values)}\")\n",
    "#     label = float(file[5:17])\n",
    "#     data['Y'] = xr.DataArray(np.array([label]*data.sizes['sample']), dims='sample')\n",
    "#     print(f\"UPDATED label:{np.unique(data['Y'].values)}\")\n",
    "#     print(\"---\")\n",
    "#     data = data.chunk('auto')\n",
    "#     data.to_zarr(Path('.')/file, mode='w')"
   ]
  },
  {
   "cell_type": "code",
   "execution_count": null,
   "metadata": {},
   "outputs": [],
   "source": [
    "# # Check the save zarr files\n",
    "# dir_cutouts = Path('.')\n",
    "# list_zarr = ['label142377591163_murumuru.zarr/', 'label244751236943_tucuma.zarr/', ]\n",
    "# for file in list_zarr:\n",
    "#     data = xr.open_zarr(dir_cutouts/file)\n",
    "#     print(file)\n",
    "#     print(f\"shape:{data['X'].sizes}\")\n",
    "#     print(f\"label:{np.unique(data['Y'].values)}\")"
   ]
  }
 ],
 "metadata": {
  "kernelspec": {
   "display_name": "xai4geo",
   "language": "python",
   "name": "python3"
  },
  "language_info": {
   "codemirror_mode": {
    "name": "ipython",
    "version": 3
   },
   "file_extension": ".py",
   "mimetype": "text/x-python",
   "name": "python",
   "nbconvert_exporter": "python",
   "pygments_lexer": "ipython3",
   "version": "3.11.7"
  }
 },
 "nbformat": 4,
 "nbformat_minor": 2
}
