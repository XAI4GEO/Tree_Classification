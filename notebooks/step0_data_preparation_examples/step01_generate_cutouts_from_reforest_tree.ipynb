{
 "cells": [
  {
   "cell_type": "code",
   "execution_count": null,
   "metadata": {},
   "outputs": [],
   "source": [
    "import geopandas as gpd\n",
    "import matplotlib.pyplot as plt\n",
    "import pandas as pd\n",
    "import rioxarray\n",
    "import random\n",
    "import numpy as np\n",
    "from os import listdir\n",
    "from os.path import isfile, join\n",
    "from shapely.geometry import MultiPolygon, Polygon\n",
    "import tree_dataset\n",
    "from sklearn.preprocessing import LabelEncoder "
   ]
  },
  {
   "cell_type": "markdown",
   "metadata": {},
   "source": [
    "# Workflow to generate cutouts of 1 tile from the dataset"
   ]
  },
  {
   "cell_type": "code",
   "execution_count": null,
   "metadata": {},
   "outputs": [],
   "source": [
    "# data paths\n",
    "region = 'Nestor Macias'\n",
    "root = f'data/reforestree/tiles/{region} RGB/'\n",
    "rgb_filenames = [f for f in listdir(root) if isfile(join(root, f))]\n",
    "rgb_filename = rgb_filenames[4]\n",
    "classes_path = f'data/reforestree/mapping/final_dataset.csv'"
   ]
  },
  {
   "cell_type": "code",
   "execution_count": null,
   "metadata": {},
   "outputs": [],
   "source": [
    "# load classes\n",
    "annot = pd.read_csv(classes_path)"
   ]
  },
  {
   "cell_type": "code",
   "execution_count": null,
   "metadata": {},
   "outputs": [],
   "source": [
    "# Create shapely polygons from coordinates of annotated boxes and convert to geopandas dataframe and extract corresponding classes\n",
    "# poly_list = []\n",
    "classes = []\n",
    "gdf = gpd.GeoDataFrame(columns=['geometry'], crs='epsg:4326', geometry='geometry')\n",
    "for ind in annot.index:\n",
    "    if rgb_filename == annot['img_path'][ind]:\n",
    "        xmin = annot['xmin'][ind]\n",
    "        xmax = annot['xmax'][ind]\n",
    "        ymin = annot['ymin'][ind]\n",
    "        ymax = annot['ymax'][ind]\n",
    "        poly = (Polygon([(xmin, ymin), (xmax, ymin), (xmax, ymax), (xmin, ymax)]))\n",
    "        poly_gpd = gpd.GeoDataFrame(crs='epsg:4326', geometry=[poly])\n",
    "        gdf = pd.concat([gdf.geometry, poly_gpd.geometry], ignore_index=True)\n",
    "        classes.append(annot['group'][ind])"
   ]
  },
  {
   "cell_type": "code",
   "execution_count": null,
   "metadata": {},
   "outputs": [],
   "source": [
    "# Process class labels in to a pandas df with numeric labels\n",
    "dataclasses = [\"other\", \"banana\", \"cacao\", \"citrus\", \"fruit\", \"timber\"]\n",
    "classes = pd.DataFrame(classes, columns=['class'])\n",
    "classes[\"label\"] = classes[\"class\"].apply(dataclasses.index)\n",
    "classes = classes['label']"
   ]
  },
  {
   "cell_type": "code",
   "execution_count": null,
   "metadata": {},
   "outputs": [],
   "source": [
    "#Generate cutouts from tree_dataset module - changes in line 63/64 of module for crs\n",
    "ds = tree_dataset.TreeDataset([join(root, rgb_filename)], gdf, classes, augment_data=False, max_pixel_size=400, pixel_size=400)"
   ]
  },
  {
   "cell_type": "code",
   "execution_count": null,
   "metadata": {},
   "outputs": [],
   "source": [
    "ids, Y, X = ds.get_cutouts()"
   ]
  },
  {
   "cell_type": "code",
   "execution_count": null,
   "metadata": {},
   "outputs": [],
   "source": [
    "plt.imshow(X[0].astype(int))"
   ]
  },
  {
   "cell_type": "markdown",
   "metadata": {},
   "source": [
    "# Generate cutouts from all tiles from one site"
   ]
  },
  {
   "cell_type": "code",
   "execution_count": null,
   "metadata": {},
   "outputs": [],
   "source": [
    "# The files are already loaded for Nestor Macias for which we will now produce cutouts for all tiles\n",
    "def tile_cutouts(annot, rgb_filename, dataclasses):\n",
    "    # Create shapely polygons from coordinates of annotated boxes and convert to geopandas dataframe and extract corresponding classes\n",
    "    # poly_list = []\n",
    "    classes = []\n",
    "    gdf = gpd.GeoDataFrame(columns=['geometry'], crs='epsg:4326', geometry='geometry')\n",
    "    for ind in annot.index:\n",
    "        if rgb_filename == annot['img_path'][ind]:\n",
    "            xmin = annot['xmin'][ind]\n",
    "            xmax = annot['xmax'][ind]\n",
    "            ymin = annot['ymin'][ind]\n",
    "            ymax = annot['ymax'][ind]\n",
    "            poly = (Polygon([(xmin, ymin), (xmax, ymin), (xmax, ymax), (xmin, ymax)]))\n",
    "            poly_gpd = gpd.GeoDataFrame(crs='epsg:4326', geometry=[poly])\n",
    "            gdf = pd.concat([gdf.geometry, poly_gpd.geometry], ignore_index=True)\n",
    "            classes.append(annot['group'][ind])\n",
    "    # Process class labels in to a pandas df with numeric labels\n",
    "    if not gdf.empty:\n",
    "        classes = pd.DataFrame(classes, columns=['class'])\n",
    "        classes[\"label\"] = classes[\"class\"].apply(dataclasses.index)\n",
    "        classes = classes['label']\n",
    "\n",
    "        ds = tree_dataset.TreeDataset([join(root, rgb_filename)], gdf, classes, augment_data=False, max_pixel_size=400, pixel_size=400)\n",
    "        return ds.get_cutouts()\n",
    "    return None\n",
    "    "
   ]
  },
  {
   "cell_type": "code",
   "execution_count": null,
   "metadata": {},
   "outputs": [],
   "source": [
    "import warnings\n",
    "warnings.filterwarnings('ignore')\n",
    "\n",
    "# data paths\n",
    "region = 'Leonor Aspiazu'\n",
    "root = f'data/reforestree/tiles/{region} RGB/'\n",
    "rgb_filenames = [f for f in listdir(root) if isfile(join(root, f))]\n",
    "\n",
    "classes_path = f'data/reforestree/mapping/final_dataset.csv'\n",
    "dataclasses = [\"other\", \"banana\", \"cacao\", \"citrus\", \"fruit\", \"timber\"]\n",
    "annot = pd.read_csv(classes_path)\n",
    "existcheck = True\n",
    "rgb_filenames.remove('Leonor Aspiazu RGB_15_11400_9855_15400_13855.png')\n",
    "for file in rgb_filenames:\n",
    "    print (file)\n",
    "    tiles = tile_cutouts(annot, file, dataclasses)\n",
    "    if tiles is not None:\n",
    "        ids, Y_tile, X_tile = tiles\n",
    "        if (existcheck):\n",
    "            X = X_tile\n",
    "            Y = Y_tile\n",
    "            existcheck = False\n",
    "        else:\n",
    "            X = np.concatenate((X, X_tile), axis = 0)\n",
    "            Y = np.concatenate((Y, Y_tile), axis = 0)\n",
    "        print (X.shape)\n",
    "#Save to file\n",
    "np.savez('Leonor_Aspiazu.npz', X=X, Y=Y)"
   ]
  },
  {
   "cell_type": "code",
   "execution_count": null,
   "metadata": {},
   "outputs": [],
   "source": [
    "#Save to file\n",
    "np.savez('nestor_macias.npz', X=X, Y=Y)"
   ]
  },
  {
   "cell_type": "markdown",
   "metadata": {},
   "source": [
    "# Generate cutouts from all tiles from all sites"
   ]
  },
  {
   "cell_type": "code",
   "execution_count": null,
   "metadata": {},
   "outputs": [],
   "source": [
    "import warnings\n",
    "warnings.filterwarnings('ignore')"
   ]
  },
  {
   "cell_type": "code",
   "execution_count": null,
   "metadata": {},
   "outputs": [],
   "source": [
    "# data paths\n",
    "regions = ['Carlos Vera Guevara', 'Carlos Vera Arteaga', 'Flora Pluas', 'Leonor Aspiazu', 'Manuel Macias', 'Nestor Macias']\n",
    "dataclasses = [\"other\", \"banana\", \"cacao\", \"citrus\", \"fruit\", \"timber\"]\n",
    "classes_path = f'data/reforestree/mapping/final_dataset.csv'\n",
    "annot = pd.read_csv(classes_path) \n",
    "existcheck = True\n",
    "for region in regions:\n",
    "    print (region)\n",
    "    root = f'data/reforestree/tiles/{region} RGB/'\n",
    "    rgb_filenames = [f for f in listdir(root) if isfile(join(root, f))]\n",
    "\n",
    "    for file in rgb_filenames:\n",
    "        print (file)\n",
    "        tiles = tile_cutouts(annot, file, dataclasses)\n",
    "        if tiles is not None:\n",
    "            ids, Y_tile, X_tile = tiles\n",
    "            if (existcheck):\n",
    "                X = X_tile\n",
    "                Y = Y_tile\n",
    "                existcheck = False\n",
    "            else:\n",
    "                X = np.concatenate((X, X_tile), axis = 0)\n",
    "                Y = np.concatenate((Y, Y_tile), axis = 0)\n",
    "            print (X.shape)\n",
    "        "
   ]
  }
 ],
 "metadata": {
  "kernelspec": {
   "display_name": "xai4geo",
   "language": "python",
   "name": "python3"
  },
  "language_info": {
   "codemirror_mode": {
    "name": "ipython",
    "version": 3
   },
   "file_extension": ".py",
   "mimetype": "text/x-python",
   "name": "python",
   "nbconvert_exporter": "python",
   "pygments_lexer": "ipython3",
   "version": "3.11.7"
  }
 },
 "nbformat": 4,
 "nbformat_minor": 2
}
