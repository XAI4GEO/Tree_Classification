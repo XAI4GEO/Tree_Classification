{
 "cells": [
  {
   "cell_type": "code",
   "execution_count": null,
   "metadata": {},
   "outputs": [],
   "source": [
    "import xarray as xr\n",
    "import numpy as np\n",
    "from pathlib import Path\n",
    "from itertools import combinations, product\n",
    "\n",
    "rng = np.random.default_rng(seed=42)"
   ]
  },
  {
   "cell_type": "code",
   "execution_count": null,
   "metadata": {},
   "outputs": [],
   "source": [
    "# Same labels aas step2\n",
    "description_labels = {0: 'netflora_murumuru_embrapa00',\n",
    "                      1: 'netflora_buriti_emprapa00', \n",
    "                      2: 'netflora_tucuma_emprapa00',\n",
    "                      3: 'reforestree_banana',\n",
    "                      4: 'reforestree_cacao',\n",
    "                      5: 'reforestree_fruit',}"
   ]
  },
  {
   "cell_type": "code",
   "execution_count": null,
   "metadata": {},
   "outputs": [],
   "source": [
    "dir_cutouts = Path('/home/oku/Developments/XAI4GEO/data/cleaned_data/all_cutouts')\n",
    "list_cutouts = list(dir_cutouts.glob('*.zarr'))\n",
    "list_cutouts.sort()\n",
    "for f_cutouts in list_cutouts:\n",
    "    data = xr.open_zarr(f_cutouts)\n",
    "    print(f_cutouts)\n",
    "    print(f\"shape:{data['X'].sizes}\")\n",
    "    print(f\"label:{np.unique(data['Y'].values)}\")\n",
    "    print(\"---\")\n"
   ]
  },
  {
   "cell_type": "markdown",
   "metadata": {},
   "source": [
    "## Manually select cutouts to make training pairs\n",
    "\n",
    "The strategy is taking 50 images of each class, exept label 4: cacao, which is not significantly different from label 5: fruit.\n",
    "\n",
    "Label 1 only has 11, and label 3 has 29. So we will take all of them."
   ]
  },
  {
   "cell_type": "code",
   "execution_count": null,
   "metadata": {},
   "outputs": [],
   "source": [
    "ds_label0 = xr.open_zarr(dir_cutouts / \"label0_murumuru_embrapa00.zarr\")\n",
    "ds_label0 = ds_label0.isel(sample=range(13))\n",
    "\n",
    "ds_label1 = xr.open_zarr(dir_cutouts / \"label1_netflora_buriti_emprapa00.zarr\").isel(\n",
    "    sample=range(50)\n",
    ")\n",
    "ds_label2 = xr.open_zarr(dir_cutouts / \"label2_netflora_tucuma_emprapa00.zarr\")\n",
    "idx_label3 = (\n",
    "    list(range(0, 6))\n",
    "    + list(range(24, 31))\n",
    "    + list(range(35, 41))\n",
    "    + list(range(47, 48))\n",
    "    + list(range(51, 53))\n",
    "    + list(range(54, 56))\n",
    "    + list(range(93, 98))\n",
    "    + list(range(99, 103))\n",
    "    + list(range(576, 581))\n",
    "    + list(range(596, 600))\n",
    ")\n",
    "ds_label3 = xr.open_zarr(dir_cutouts / \"label3_reforestree_banana.zarr\").isel(\n",
    "    sample=idx_label3\n",
    ")\n",
    "\n",
    "idx_label5 = (\n",
    "    [0, 3, 5]\n",
    "    + list(range(18, 21))\n",
    "    + list(range(29, 32))\n",
    "    + [40, 47]\n",
    "    + list(range(105, 111))\n",
    "    + list(range(135, 142))\n",
    "    + list(range(144, 145))\n",
    "    + list(range(55, 58))\n",
    "    + list(range(59, 61))\n",
    "    + list(range(90, 92))\n",
    ")\n",
    "ds_label5 = xr.open_zarr(dir_cutouts / \"label5_reforestree_fruit.zarr\").isel(\n",
    "    sample=idx_label5\n",
    ")"
   ]
  },
  {
   "cell_type": "markdown",
   "metadata": {},
   "source": [
    "## Check all samples"
   ]
  },
  {
   "cell_type": "code",
   "execution_count": null,
   "metadata": {},
   "outputs": [],
   "source": [
    "ds_label0['X'].plot.imshow(col='sample', col_wrap=5)"
   ]
  },
  {
   "cell_type": "code",
   "execution_count": null,
   "metadata": {},
   "outputs": [],
   "source": [
    "ds_label1['X'].plot.imshow(col='sample', col_wrap=5)"
   ]
  },
  {
   "cell_type": "code",
   "execution_count": null,
   "metadata": {},
   "outputs": [],
   "source": [
    "ds_label2['X'].plot.imshow(col='sample', col_wrap=5)"
   ]
  },
  {
   "cell_type": "code",
   "execution_count": null,
   "metadata": {},
   "outputs": [],
   "source": [
    "ds_label3['X'].plot.imshow(col='sample', col_wrap=5)"
   ]
  },
  {
   "cell_type": "code",
   "execution_count": null,
   "metadata": {},
   "outputs": [],
   "source": [
    "ds_label5['X'].plot.imshow(col='sample', col_wrap=5)"
   ]
  },
  {
   "cell_type": "code",
   "execution_count": null,
   "metadata": {},
   "outputs": [],
   "source": [
    "ds_label3['X'].values"
   ]
  },
  {
   "cell_type": "markdown",
   "metadata": {},
   "source": [
    "## Save manually picked paris"
   ]
  },
  {
   "cell_type": "code",
   "execution_count": null,
   "metadata": {},
   "outputs": [],
   "source": [
    "for ds, id in zip([ds_label0, ds_label1, ds_label2, ds_label3, ds_label5], [0, 1, 2, 3, 5]):\n",
    "    print(f\"shape:{ds['X'].sizes}\")\n",
    "    print(f\"label:{np.unique(ds['Y'].values)}\")\n",
    "    print(\"---\")\n",
    "    ds = ds.compute()\n",
    "    ds['X'].encoding['_FillValue'] = 0\n",
    "    ds.chunk({'sample': 50}).to_zarr(f\"./label{id}_{description_labels[id]}.zarr\", mode=\"w\")"
   ]
  },
  {
   "cell_type": "markdown",
   "metadata": {},
   "source": [
    "## Generate training pairs"
   ]
  },
  {
   "cell_type": "code",
   "execution_count": null,
   "metadata": {},
   "outputs": [],
   "source": [
    "path_cutouts_selected = Path(\"/home/oku/Developments/XAI4GEO/data/cleaned_data/selected_cutouts\")\n",
    "\n",
    "ds_label0 = xr.open_zarr(path_cutouts_selected / \"label0_netflora_murumuru_embrapa00.zarr\")\n",
    "ds_label1 = xr.open_zarr(path_cutouts_selected / \"label1_netflora_buriti_emprapa00.zarr\")\n",
    "ds_label2 = xr.open_zarr(path_cutouts_selected / \"label2_netflora_tucuma_emprapa00.zarr\")\n",
    "ds_label3 = xr.open_zarr(path_cutouts_selected / \"label3_reforestree_banana.zarr\")\n",
    "ds_label5 = xr.open_zarr(path_cutouts_selected / \"label5_reforestree_fruit.zarr\")\n",
    "\n",
    "for ds, id in zip([ds_label0, ds_label1, ds_label2, ds_label3, ds_label5], [0, 1, 2, 3, 5]):\n",
    "    print(f\"shape:{ds['X'].sizes}\")\n",
    "    print(f\"label:{np.unique(ds['Y'].values)}\")\n",
    "    print(\"---\")"
   ]
  },
  {
   "cell_type": "code",
   "execution_count": null,
   "metadata": {},
   "outputs": [],
   "source": [
    "ds_all = xr.concat([ds_label0, ds_label1, ds_label2, ds_label3, ds_label5], dim='sample')\n",
    "ds_all"
   ]
  },
  {
   "cell_type": "code",
   "execution_count": null,
   "metadata": {},
   "outputs": [],
   "source": [
    "def generate_train_image_pairs(images_dataset, labels_dataset):\n",
    "    \"\"\"Function to generate image pairs for training\n",
    "\n",
    "    Parameters\n",
    "    ----------\n",
    "    images_dataset : image dataset\n",
    "        Xarray DataArray containing the images, can be dask array\n",
    "    labels_dataset : label dataset\n",
    "        NumPy array for simplicity\n",
    "    \"\"\"\n",
    "    labels_dataset = labels_dataset.compute()\n",
    "    unique_labels = np.unique(labels_dataset.values)\n",
    "\n",
    "    # Find the minimum number of samples\n",
    "    min_n_sample = min(\n",
    "        [\n",
    "            images_dataset.where(labels_dataset == label, drop=True).sizes[\"sample\"]\n",
    "            for label in unique_labels\n",
    "        ]\n",
    "    )\n",
    "\n",
    "    # Generate all possible pairs\n",
    "    pairs_idx = list(combinations(range(min_n_sample), 2))\n",
    "\n",
    "    pair_images = []\n",
    "    pair_labels = []\n",
    "\n",
    "    for label in unique_labels:\n",
    "        # Images of current label\n",
    "        imgs_curr = images_dataset.where(labels_dataset == label, drop=True)\n",
    "\n",
    "        # select first min_n_sample samples for each label\n",
    "        imgs_curr = imgs_curr.isel(sample=range(min_n_sample))\n",
    "\n",
    "        # Find non similar class labels\n",
    "        # To make dissimilar pairs\n",
    "        label_other = np.setdiff1d(unique_labels, label)\n",
    "        label_other = label_other[\n",
    "            label_other > label\n",
    "        ]  # Only select labels with higher value to avaoid duplicate pairs\n",
    "        mask_da = xr.DataArray(np.isin(labels_dataset, label_other), dims=\"sample\")\n",
    "\n",
    "        # find labels_dataset in list label_other\n",
    "        imgs_curr_other = images_dataset.where(mask_da, drop=True)\n",
    "\n",
    "        # Make similar pairs\n",
    "        for pair in pairs_idx:\n",
    "\n",
    "            # Make two lists list_img1 and list_img2\n",
    "            # Each contains the original and augmented images of one image in the pair\n",
    "            list_img1_img2 = []\n",
    "            for idx in [0, 1]: # augment the image 0 and 1\n",
    "                # original image\n",
    "                img = imgs_curr.isel(sample=pair[idx])\n",
    "\n",
    "                # randomly rotate img 90, 180, 270\n",
    "                img_rot = img.copy()\n",
    "                img_rot.data = np.rot90(img.values, k=rng.integers(1, 4))\n",
    "\n",
    "                # flip left-right img\n",
    "                img_flip_lr = img.isel(x=slice(None, None, -1))\n",
    "\n",
    "                # flip up-down img\n",
    "                img_flip_ud = img.isel(y=slice(None, None, -1))\n",
    "\n",
    "                img_list = [\n",
    "                    img.expand_dims(pair=1),\n",
    "                    img_rot.expand_dims(pair=1),\n",
    "                    img_flip_lr.expand_dims(pair=1),\n",
    "                    img_flip_ud.expand_dims(pair=1),\n",
    "                ]\n",
    "                list_img1_img2.append(img_list)\n",
    "            list_img1 = list_img1_img2[0]\n",
    "            list_img2 = list_img1_img2[1]\n",
    "\n",
    "            # exhaustively select pairs between list_img1 and list_img2\n",
    "            pairs_idx_similar = product(range(len(list_img1)), range(len(list_img2)))\n",
    "            for pair_similar in pairs_idx_similar:\n",
    "                curr_pair = xr.concat(\n",
    "                    [\n",
    "                        list_img1[pair_similar[0]],\n",
    "                        list_img2[pair_similar[1]],\n",
    "                    ],\n",
    "                    dim=\"pair\",\n",
    "                )\n",
    "                curr_pair = curr_pair.expand_dims(sample=1)\n",
    "                pair_images.append(curr_pair)\n",
    "                pair_labels.append(1)\n",
    "\n",
    "        # Make dissimilar pairs\n",
    "        # exhaustively select pairs between imgs_curr and imgs_curr_other\n",
    "        pairs_idx_non_similar = product(\n",
    "            range(imgs_curr.sizes[\"sample\"]), range(imgs_curr_other.sizes[\"sample\"])\n",
    "        )\n",
    "        # make combinations of pairs between idx_curr and idx_curr_other\n",
    "        for pair in pairs_idx_non_similar:\n",
    "            curr_pair_diff = xr.concat(\n",
    "                [\n",
    "                    imgs_curr.isel(sample=pair[0]).expand_dims(pair=1),\n",
    "                    imgs_curr_other.isel(sample=pair[1]).expand_dims(pair=1),\n",
    "                ],\n",
    "                dim=\"pair\",\n",
    "            )\n",
    "            curr_pair_diff = curr_pair_diff.expand_dims(sample=1)\n",
    "            pair_images.append(curr_pair_diff)\n",
    "            pair_labels.append(0)\n",
    "\n",
    "    return xr.concat(pair_images, dim=\"sample\"), np.array(pair_labels)"
   ]
  },
  {
   "cell_type": "code",
   "execution_count": null,
   "metadata": {},
   "outputs": [],
   "source": [
    "images_pair, labels_pair = generate_train_image_pairs(ds_all['X'], ds_all['Y'])\n",
    "ds_images_pair = images_pair.to_dataset()\n",
    "ds_images_pair = ds_images_pair.assign(Y = (['sample'], labels_pair))\n",
    "ds_images_pair"
   ]
  },
  {
   "cell_type": "code",
   "execution_count": null,
   "metadata": {},
   "outputs": [],
   "source": [
    "# select similar and dissimilar pairs\n",
    "ds_images_pair_similar = ds_images_pair.where(ds_images_pair['Y'] == 1, drop=True)\n",
    "ds_images_pair_dissimilar = ds_images_pair.where(ds_images_pair['Y'] == 0, drop=True)\n",
    "\n",
    "# Randomly select in ds_images_pair_similar to make it same size as ds_images_pair_dissimilar\n",
    "idx_similar = rng.integers(0, ds_images_pair_similar.sizes['sample'], size=ds_images_pair_dissimilar.sizes['sample'])\n",
    "ds_images_pair_similar = ds_images_pair_similar.isel(sample=idx_similar)"
   ]
  },
  {
   "cell_type": "code",
   "execution_count": null,
   "metadata": {},
   "outputs": [],
   "source": [
    "# Combine similar and dissimilar pairs one after the other\n",
    "ds_images_pair = xr.concat([ds_images_pair_similar, ds_images_pair_dissimilar], dim='sample')\n",
    "ds_images_pair"
   ]
  },
  {
   "cell_type": "code",
   "execution_count": null,
   "metadata": {},
   "outputs": [],
   "source": [
    "print(f\"similar pairs: {np.sum(ds_images_pair['Y']==1).values}\")\n",
    "print(f\"non similar pairs: {np.sum(ds_images_pair['Y']==0).values}\")\n",
    "ds_images_pair['Y'].plot()"
   ]
  },
  {
   "cell_type": "code",
   "execution_count": null,
   "metadata": {},
   "outputs": [],
   "source": [
    "idx_similar = range(0, ds_images_pair_dissimilar.sizes['sample'])\n",
    "idx_non_similar = range(ds_images_pair_dissimilar.sizes['sample'], ds_images_pair.sizes['sample'])\n",
    "#shuffle the indices\n",
    "idx_similar_shuffled = rng.permutation(idx_similar)\n",
    "idx_non_similar_shuffled = rng.permutation(idx_non_similar)\n",
    "idx_mix = [val for pair in zip(idx_similar_shuffled, idx_non_similar_shuffled) for val in pair]\n",
    "idx_mix"
   ]
  },
  {
   "cell_type": "code",
   "execution_count": null,
   "metadata": {},
   "outputs": [],
   "source": [
    "# reorder ds_images_pair in sample dimension, make similar and dissimilar pairs one after the other\n",
    "ds_images_pair_shuffled = ds_images_pair.isel(sample=idx_mix)\n",
    "print(f\"similar pairs first 3200: {np.sum(ds_images_pair_shuffled['Y'].isel(sample=range(3200))==1).values}\")\n",
    "print(f\"non similar pairs first 3200: {np.sum(ds_images_pair_shuffled['Y'].isel(sample=range(3200))==0).values}\")\n",
    "ds_images_pair_shuffled['Y'].plot()"
   ]
  },
  {
   "cell_type": "code",
   "execution_count": null,
   "metadata": {},
   "outputs": [],
   "source": [
    "# radomly plot 10 similar pairs\n",
    "from matplotlib import pyplot as plt\n",
    "ds_images_pair_shuffled_similar = ds_images_pair_shuffled.where(ds_images_pair_shuffled['Y']==1, drop=True)\n",
    "idx_sel = rng.integers(0, ds_images_pair_shuffled_similar.sizes[\"sample\"], size=10)\n",
    "ds_plot = ds_images_pair_shuffled_similar.isel(sample=idx_sel)\n",
    "fig, axs = plt.subplots(10, 2, figsize=(10, 60))\n",
    "for i in range(10):\n",
    "    ds_plot['X'].isel(sample=i, pair=0).astype('int').plot.imshow(ax=axs[i, 0])\n",
    "    ds_plot['X'].isel(sample=i, pair=1).astype('int').plot.imshow(ax=axs[i, 1])"
   ]
  },
  {
   "cell_type": "code",
   "execution_count": null,
   "metadata": {},
   "outputs": [],
   "source": [
    "# radomly plot 10 non-similar pairs\n",
    "from matplotlib import pyplot as plt\n",
    "ds_images_pair_shuffled_similar = ds_images_pair_shuffled.where(ds_images_pair_shuffled['Y']==0, drop=True)\n",
    "idx_sel = rng.integers(0, ds_images_pair_shuffled_similar.sizes[\"sample\"], size=10)\n",
    "ds_plot = ds_images_pair_shuffled_similar.isel(sample=idx_sel)\n",
    "fig, axs = plt.subplots(10, 2, figsize=(10, 60))\n",
    "for i in range(10):\n",
    "    ds_plot['X'].isel(sample=i, pair=0).astype('int').plot.imshow(ax=axs[i, 0])\n",
    "    ds_plot['X'].isel(sample=i, pair=1).astype('int').plot.imshow(ax=axs[i, 1])"
   ]
  },
  {
   "cell_type": "code",
   "execution_count": null,
   "metadata": {},
   "outputs": [],
   "source": [
    "ds_images_pair_shuffled"
   ]
  },
  {
   "cell_type": "code",
   "execution_count": null,
   "metadata": {},
   "outputs": [],
   "source": [
    "# change nan in ds_images_pair_shuffled 0\n",
    "ds_images_pair_shuffled['X'] = ds_images_pair_shuffled['X'].fillna(0)\n"
   ]
  },
  {
   "cell_type": "code",
   "execution_count": null,
   "metadata": {},
   "outputs": [],
   "source": [
    "ds_images_pair_shuffled = ds_images_pair_shuffled.chunk({'sample': 500, 'pair': -1, 'y': -1, 'x': -1, 'channel': -1})\n",
    "ds_images_pair_shuffled"
   ]
  },
  {
   "cell_type": "code",
   "execution_count": null,
   "metadata": {},
   "outputs": [],
   "source": [
    "# Save the dataset\n",
    "ds_images_pair_shuffled.to_zarr('./traing_pairs.zarr', mode=\"w\")"
   ]
  }
 ],
 "metadata": {
  "kernelspec": {
   "display_name": "xai4geo",
   "language": "python",
   "name": "python3"
  },
  "language_info": {
   "codemirror_mode": {
    "name": "ipython",
    "version": 3
   },
   "file_extension": ".py",
   "mimetype": "text/x-python",
   "name": "python",
   "nbconvert_exporter": "python",
   "pygments_lexer": "ipython3",
   "version": "3.11.7"
  }
 },
 "nbformat": 4,
 "nbformat_minor": 2
}
