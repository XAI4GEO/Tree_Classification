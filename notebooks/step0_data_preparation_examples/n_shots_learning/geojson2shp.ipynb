{
 "cells": [
  {
   "cell_type": "code",
   "execution_count": 10,
   "metadata": {},
   "outputs": [],
   "source": [
    "import xarray as xr\n",
    "from pathlib import Path\n",
    "import geopandas as gpd\n",
    "from matplotlib import pyplot as plt\n",
    "\n",
    "from geocoded_object_extractor import ObjectExtractor\n",
    "from geocoded_object_extractor.utils import write_cutouts"
   ]
  },
  {
   "cell_type": "code",
   "execution_count": null,
   "metadata": {},
   "outputs": [],
   "source": [
    "# path_zarr = '../../../../data/cleaned_data/all_cutouts'\n",
    "\n",
    "# data_path = Path('/home/oku/Developments/XAI4GEO/data/brazil_data/')\n",
    "# image_path = data_path / 'original_data/PNM/PROCESSADOS/Map1_Orthomosaic_export_SatJun10172428194829.tif'\n",
    "# tree_locations_path = data_path / 'Tree_locationJune24.gpkg'\n",
    "# tree_locations_path = data_path / 'Tree_location2_Herb_Al.gpkg'\n",
    "# tree_locations_path = data_path / 'Tree_location1.gpkg'"
   ]
  },
  {
   "cell_type": "code",
   "execution_count": null,
   "metadata": {},
   "outputs": [],
   "source": [
    "# tree_locations = gpd.read_file(tree_locations_path)\n",
    "# tree_locations.to_file(data_path / 'Tree_locationJune24.shp')\n",
    "# tree_locations.to_file(data_path / 'Tree_location2_Herb_Al.shp')\n",
    "# tree_locations.to_file(data_path / 'Tree_location1.shp')"
   ]
  }
 ],
 "metadata": {
  "kernelspec": {
   "display_name": "xai4geo",
   "language": "python",
   "name": "python3"
  },
  "language_info": {
   "codemirror_mode": {
    "name": "ipython",
    "version": 3
   },
   "file_extension": ".py",
   "mimetype": "text/x-python",
   "name": "python",
   "nbconvert_exporter": "python",
   "pygments_lexer": "ipython3",
   "version": "3.11.7"
  }
 },
 "nbformat": 4,
 "nbformat_minor": 2
}
